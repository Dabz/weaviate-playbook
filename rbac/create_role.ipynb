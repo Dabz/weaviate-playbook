{
 "cells": [
  {
   "cell_type": "code",
   "id": "initial_id",
   "metadata": {
    "collapsed": true,
    "ExecuteTime": {
     "end_time": "2025-08-06T07:41:58.185071Z",
     "start_time": "2025-08-06T07:41:57.764572Z"
    }
   },
   "source": [
    "import weaviate\n",
    "from weaviate.auth import Auth\n",
    "\n",
    "client = weaviate.connect_to_local(auth_credentials=Auth.api_key(\"admin\"))"
   ],
   "outputs": [],
   "execution_count": 3
  },
  {
   "metadata": {
    "ExecuteTime": {
     "end_time": "2025-08-06T07:52:34.139890Z",
     "start_time": "2025-08-06T07:52:33.561171Z"
    }
   },
   "cell_type": "code",
   "source": [
    "from weaviate.collections.classes.config import Property, DataType\n",
    "from weaviate.rbac.models import Permissions\n",
    "\n",
    "if client.roles.exists(\"test\"):\n",
    "    client.roles.delete(\"test\")\n",
    "\n",
    "client.roles.create(\n",
    "    role_name=\"test\",\n",
    "    permissions=[\n",
    "        Permissions.data(\n",
    "            collection=\"(Public|Questions)*\",\n",
    "            create=False,\n",
    "            delete=False,\n",
    "            read=True,\n",
    "            update=False\n",
    "        ),\n",
    "        Permissions.collections(\n",
    "            collection=\"Public*|Questions*\",\n",
    "            read_config=True)\n",
    "    ]\n",
    ")\n",
    "\n",
    "for collection in [\"PublicTest\", \"QuestionsTest\", \"NoAccessTest\"]:\n",
    "    if client.collections.exists(collection):\n",
    "        client.collections.delete(collection)\n",
    "\n",
    "    client.collections.create(\n",
    "        name=collection,\n",
    "        properties=[Property(name=\"test\", data_type=DataType.TEXT)]\n",
    "    )\n",
    "    client.collections.get(collection).data.insert(\n",
    "        properties={\"test\": \"Hello World\"}\n",
    "    )\n",
    "\n"
   ],
   "id": "62e6f48b32ea6cd4",
   "outputs": [],
   "execution_count": 41
  },
  {
   "metadata": {
    "ExecuteTime": {
     "end_time": "2025-08-06T07:52:36.138525Z",
     "start_time": "2025-08-06T07:52:36.130698Z"
    }
   },
   "cell_type": "code",
   "source": "client.users.db.assign_roles(user_id=\"app\", role_names=\"test\")",
   "id": "95b0ecb85814273d",
   "outputs": [],
   "execution_count": 42
  },
  {
   "metadata": {
    "ExecuteTime": {
     "end_time": "2025-08-06T07:52:37.567358Z",
     "start_time": "2025-08-06T07:52:37.469649Z"
    }
   },
   "cell_type": "code",
   "source": "app_client = weaviate.connect_to_local(auth_credentials=Auth.api_key(\"app\"))\n",
   "id": "87f7755f251fbd1d",
   "outputs": [
    {
     "name": "stderr",
     "output_type": "stream",
     "text": [
      "/var/folders/3b/zrvl30f13v7ch2v99gp_4q2c0000gn/T/ipykernel_80620/4002572113.py:1: ResourceWarning: unclosed <socket.socket fd=85, family=30, type=1, proto=6, laddr=('::1', 55414, 0, 0), raddr=('::1', 8080, 0, 0)>\n",
      "  app_client = weaviate.connect_to_local(auth_credentials=Auth.api_key(\"app\"))\n",
      "ResourceWarning: Enable tracemalloc to get the object allocation traceback\n"
     ]
    }
   ],
   "execution_count": 43
  },
  {
   "metadata": {
    "ExecuteTime": {
     "end_time": "2025-08-06T07:52:39.424503Z",
     "start_time": "2025-08-06T07:52:39.419457Z"
    }
   },
   "cell_type": "code",
   "source": "app_client.collections.list_all()",
   "id": "ee9f25dbc48c91d8",
   "outputs": [
    {
     "data": {
      "text/plain": [
       "{'PublicTest': _CollectionConfigSimple(name='PublicTest', description=None, generative_config=None, properties=[_Property(name='test', description=None, data_type=<DataType.TEXT: 'text'>, index_filterable=True, index_range_filters=False, index_searchable=True, nested_properties=None, tokenization=<Tokenization.WORD: 'word'>, vectorizer_config=None, vectorizer=None, vectorizer_configs={})], references=[], reranker_config=None, vectorizer_config=None, vectorizer=None, vector_config={'default': _NamedVectorConfig(vectorizer=_NamedVectorizerConfig(vectorizer=<Vectorizers.NONE: 'none'>, model={}, source_properties=None), vector_index_config=_VectorIndexConfigHNSW(multi_vector=None, quantizer=None, cleanup_interval_seconds=300, distance_metric=<VectorDistances.COSINE: 'cosine'>, dynamic_ef_min=100, dynamic_ef_max=500, dynamic_ef_factor=8, ef=-1, ef_construction=128, filter_strategy=<VectorFilterStrategy.SWEEPING: 'sweeping'>, flat_search_cutoff=40000, max_connections=32, skip=False, vector_cache_max_objects=1000000000000))}),\n",
       " 'QuestionsTest': _CollectionConfigSimple(name='QuestionsTest', description=None, generative_config=None, properties=[_Property(name='test', description=None, data_type=<DataType.TEXT: 'text'>, index_filterable=True, index_range_filters=False, index_searchable=True, nested_properties=None, tokenization=<Tokenization.WORD: 'word'>, vectorizer_config=None, vectorizer=None, vectorizer_configs={})], references=[], reranker_config=None, vectorizer_config=None, vectorizer=None, vector_config={'default': _NamedVectorConfig(vectorizer=_NamedVectorizerConfig(vectorizer=<Vectorizers.NONE: 'none'>, model={}, source_properties=None), vector_index_config=_VectorIndexConfigHNSW(multi_vector=None, quantizer=None, cleanup_interval_seconds=300, distance_metric=<VectorDistances.COSINE: 'cosine'>, dynamic_ef_min=100, dynamic_ef_max=500, dynamic_ef_factor=8, ef=-1, ef_construction=128, filter_strategy=<VectorFilterStrategy.SWEEPING: 'sweeping'>, flat_search_cutoff=40000, max_connections=32, skip=False, vector_cache_max_objects=1000000000000))})}"
      ]
     },
     "execution_count": 44,
     "metadata": {},
     "output_type": "execute_result"
    }
   ],
   "execution_count": 44
  },
  {
   "metadata": {
    "ExecuteTime": {
     "end_time": "2025-08-06T07:52:44.359235Z",
     "start_time": "2025-08-06T07:52:44.346030Z"
    }
   },
   "cell_type": "code",
   "source": [
    "for o in app_client.collections.get(\"PublicTest\").iterator():\n",
    "    print(o)\n",
    "for o in app_client.collections.get(\"QuestionsTest\").iterator():\n",
    "    print(o)\n"
   ],
   "id": "2e1d697285d2b85a",
   "outputs": [
    {
     "name": "stdout",
     "output_type": "stream",
     "text": [
      "Object(uuid=_WeaviateUUIDInt('2fa7ee2b-a75b-4f79-968f-54649e340b3c'), metadata=MetadataReturn(creation_time=None, last_update_time=None, distance=None, certainty=None, score=None, explain_score=None, is_consistent=None, rerank_score=None), properties={'test': 'Hello World'}, references=None, vector={}, collection='PublicTest')\n",
      "Object(uuid=_WeaviateUUIDInt('c8259445-2fb2-4230-abff-8b31f496cc72'), metadata=MetadataReturn(creation_time=None, last_update_time=None, distance=None, certainty=None, score=None, explain_score=None, is_consistent=None, rerank_score=None), properties={'test': 'Hello World'}, references=None, vector={}, collection='QuestionsTest')\n"
     ]
    }
   ],
   "execution_count": 45
  },
  {
   "metadata": {
    "ExecuteTime": {
     "end_time": "2025-08-06T07:52:53.123364Z",
     "start_time": "2025-08-06T07:52:52.931110Z"
    }
   },
   "cell_type": "code",
   "source": [
    "for o in app_client.collections.get(\"NoAccessTest\").iterator():\n",
    "    print(o)\n"
   ],
   "id": "dc898416334e72c7",
   "outputs": [
    {
     "name": "stderr",
     "output_type": "stream",
     "text": [
      "/Library/Frameworks/Python.framework/Versions/3.12/lib/python3.12/ast.py:52: ResourceWarning: unclosed <socket.socket fd=77, family=30, type=1, proto=6, laddr=('::1', 54168, 0, 0), raddr=('::1', 8080, 0, 0)>\n",
      "  return compile(source, filename, mode, flags,\n",
      "ResourceWarning: Enable tracemalloc to get the object allocation traceback\n"
     ]
    },
    {
     "ename": "InsufficientPermissionsError",
     "evalue": "forbidden! Unexpected status code: permission denied, with response body: rbac: authorization, forbidden action: user 'app' has insufficient permissions to read_data [[Domain: data, Collection: NoAccessTest, Tenant: *, Object: *]].",
     "output_type": "error",
     "traceback": [
      "\u001B[0;31m---------------------------------------------------------------------------\u001B[0m",
      "\u001B[0;31m_InactiveRpcError\u001B[0m                         Traceback (most recent call last)",
      "File \u001B[0;32m~/Projects/weaviate-playbooks/.venv/lib/python3.12/site-packages/weaviate/connect/v4.py:985\u001B[0m, in \u001B[0;36mConnectionSync.grpc_search\u001B[0;34m(self, request)\u001B[0m\n\u001B[1;32m    984\u001B[0m \u001B[38;5;28;01massert\u001B[39;00m \u001B[38;5;28mself\u001B[39m\u001B[38;5;241m.\u001B[39mgrpc_stub \u001B[38;5;129;01mis\u001B[39;00m \u001B[38;5;129;01mnot\u001B[39;00m \u001B[38;5;28;01mNone\u001B[39;00m\n\u001B[0;32m--> 985\u001B[0m res \u001B[38;5;241m=\u001B[39m \u001B[43m_Retry\u001B[49m\u001B[43m(\u001B[49m\u001B[38;5;241;43m4\u001B[39;49m\u001B[43m)\u001B[49m\u001B[38;5;241;43m.\u001B[39;49m\u001B[43mwith_exponential_backoff\u001B[49m\u001B[43m(\u001B[49m\n\u001B[1;32m    986\u001B[0m \u001B[43m    \u001B[49m\u001B[38;5;241;43m0\u001B[39;49m\u001B[43m,\u001B[49m\n\u001B[1;32m    987\u001B[0m \u001B[43m    \u001B[49m\u001B[38;5;124;43mf\u001B[39;49m\u001B[38;5;124;43m\"\u001B[39;49m\u001B[38;5;124;43mSearching in collection \u001B[39;49m\u001B[38;5;132;43;01m{\u001B[39;49;00m\u001B[43mrequest\u001B[49m\u001B[38;5;241;43m.\u001B[39;49m\u001B[43mcollection\u001B[49m\u001B[38;5;132;43;01m}\u001B[39;49;00m\u001B[38;5;124;43m\"\u001B[39;49m\u001B[43m,\u001B[49m\n\u001B[1;32m    988\u001B[0m \u001B[43m    \u001B[49m\u001B[38;5;28;43mself\u001B[39;49m\u001B[38;5;241;43m.\u001B[39;49m\u001B[43mgrpc_stub\u001B[49m\u001B[38;5;241;43m.\u001B[39;49m\u001B[43mSearch\u001B[49m\u001B[43m,\u001B[49m\n\u001B[1;32m    989\u001B[0m \u001B[43m    \u001B[49m\u001B[43mrequest\u001B[49m\u001B[43m,\u001B[49m\n\u001B[1;32m    990\u001B[0m \u001B[43m    \u001B[49m\u001B[43mmetadata\u001B[49m\u001B[38;5;241;43m=\u001B[39;49m\u001B[38;5;28;43mself\u001B[39;49m\u001B[38;5;241;43m.\u001B[39;49m\u001B[43mgrpc_headers\u001B[49m\u001B[43m(\u001B[49m\u001B[43m)\u001B[49m\u001B[43m,\u001B[49m\n\u001B[1;32m    991\u001B[0m \u001B[43m    \u001B[49m\u001B[43mtimeout\u001B[49m\u001B[38;5;241;43m=\u001B[39;49m\u001B[38;5;28;43mself\u001B[39;49m\u001B[38;5;241;43m.\u001B[39;49m\u001B[43mtimeout_config\u001B[49m\u001B[38;5;241;43m.\u001B[39;49m\u001B[43mquery\u001B[49m\u001B[43m,\u001B[49m\n\u001B[1;32m    992\u001B[0m \u001B[43m\u001B[49m\u001B[43m)\u001B[49m\n\u001B[1;32m    993\u001B[0m \u001B[38;5;28;01mreturn\u001B[39;00m cast(search_get_pb2\u001B[38;5;241m.\u001B[39mSearchReply, res)\n",
      "File \u001B[0;32m~/Projects/weaviate-playbooks/.venv/lib/python3.12/site-packages/weaviate/retry.py:54\u001B[0m, in \u001B[0;36m_Retry.with_exponential_backoff\u001B[0;34m(self, count, error, f, *args, **kwargs)\u001B[0m\n\u001B[1;32m     53\u001B[0m \u001B[38;5;28;01mif\u001B[39;00m err\u001B[38;5;241m.\u001B[39mcode() \u001B[38;5;241m!=\u001B[39m StatusCode\u001B[38;5;241m.\u001B[39mUNAVAILABLE:\n\u001B[0;32m---> 54\u001B[0m     \u001B[38;5;28;01mraise\u001B[39;00m e\n\u001B[1;32m     55\u001B[0m logger\u001B[38;5;241m.\u001B[39minfo(\n\u001B[1;32m     56\u001B[0m     \u001B[38;5;124mf\u001B[39m\u001B[38;5;124m\"\u001B[39m\u001B[38;5;132;01m{\u001B[39;00merror\u001B[38;5;132;01m}\u001B[39;00m\u001B[38;5;124m received exception: \u001B[39m\u001B[38;5;132;01m{\u001B[39;00me\u001B[38;5;132;01m}\u001B[39;00m\u001B[38;5;124m. Retrying with exponential backoff in \u001B[39m\u001B[38;5;132;01m{\u001B[39;00m\u001B[38;5;241m2\u001B[39m\u001B[38;5;241m*\u001B[39m\u001B[38;5;241m*\u001B[39mcount\u001B[38;5;132;01m}\u001B[39;00m\u001B[38;5;124m seconds\u001B[39m\u001B[38;5;124m\"\u001B[39m\n\u001B[1;32m     57\u001B[0m )\n",
      "File \u001B[0;32m~/Projects/weaviate-playbooks/.venv/lib/python3.12/site-packages/weaviate/retry.py:50\u001B[0m, in \u001B[0;36m_Retry.with_exponential_backoff\u001B[0;34m(self, count, error, f, *args, **kwargs)\u001B[0m\n\u001B[1;32m     49\u001B[0m \u001B[38;5;28;01mtry\u001B[39;00m:\n\u001B[0;32m---> 50\u001B[0m     \u001B[38;5;28;01mreturn\u001B[39;00m \u001B[43mf\u001B[49m\u001B[43m(\u001B[49m\u001B[38;5;241;43m*\u001B[39;49m\u001B[43margs\u001B[49m\u001B[43m,\u001B[49m\u001B[43m \u001B[49m\u001B[38;5;241;43m*\u001B[39;49m\u001B[38;5;241;43m*\u001B[39;49m\u001B[43mkwargs\u001B[49m\u001B[43m)\u001B[49m\n\u001B[1;32m     51\u001B[0m \u001B[38;5;28;01mexcept\u001B[39;00m RpcError \u001B[38;5;28;01mas\u001B[39;00m e:\n",
      "File \u001B[0;32m~/Projects/weaviate-playbooks/.venv/lib/python3.12/site-packages/grpc/_channel.py:1181\u001B[0m, in \u001B[0;36m_UnaryUnaryMultiCallable.__call__\u001B[0;34m(self, request, timeout, metadata, credentials, wait_for_ready, compression)\u001B[0m\n\u001B[1;32m   1175\u001B[0m (\n\u001B[1;32m   1176\u001B[0m     state,\n\u001B[1;32m   1177\u001B[0m     call,\n\u001B[1;32m   1178\u001B[0m ) \u001B[38;5;241m=\u001B[39m \u001B[38;5;28mself\u001B[39m\u001B[38;5;241m.\u001B[39m_blocking(\n\u001B[1;32m   1179\u001B[0m     request, timeout, metadata, credentials, wait_for_ready, compression\n\u001B[1;32m   1180\u001B[0m )\n\u001B[0;32m-> 1181\u001B[0m \u001B[38;5;28;01mreturn\u001B[39;00m \u001B[43m_end_unary_response_blocking\u001B[49m\u001B[43m(\u001B[49m\u001B[43mstate\u001B[49m\u001B[43m,\u001B[49m\u001B[43m \u001B[49m\u001B[43mcall\u001B[49m\u001B[43m,\u001B[49m\u001B[43m \u001B[49m\u001B[38;5;28;43;01mFalse\u001B[39;49;00m\u001B[43m,\u001B[49m\u001B[43m \u001B[49m\u001B[38;5;28;43;01mNone\u001B[39;49;00m\u001B[43m)\u001B[49m\n",
      "File \u001B[0;32m~/Projects/weaviate-playbooks/.venv/lib/python3.12/site-packages/grpc/_channel.py:1006\u001B[0m, in \u001B[0;36m_end_unary_response_blocking\u001B[0;34m(state, call, with_call, deadline)\u001B[0m\n\u001B[1;32m   1005\u001B[0m \u001B[38;5;28;01melse\u001B[39;00m:\n\u001B[0;32m-> 1006\u001B[0m     \u001B[38;5;28;01mraise\u001B[39;00m _InactiveRpcError(state)\n",
      "\u001B[0;31m_InactiveRpcError\u001B[0m: <_InactiveRpcError of RPC that terminated with:\n\tstatus = StatusCode.PERMISSION_DENIED\n\tdetails = \"rbac: authorization, forbidden action: user 'app' has insufficient permissions to read_data [[Domain: data, Collection: NoAccessTest, Tenant: *, Object: *]]\"\n\tdebug_error_string = \"UNKNOWN:Error received from peer  {created_time:\"2025-08-06T09:52:52.942612+02:00\", grpc_status:7, grpc_message:\"rbac: authorization, forbidden action: user \\'app\\' has insufficient permissions to read_data [[Domain: data, Collection: NoAccessTest, Tenant: *, Object: *]]\"}\"\n>",
      "\nDuring handling of the above exception, another exception occurred:\n",
      "\u001B[0;31mInsufficientPermissionsError\u001B[0m              Traceback (most recent call last)",
      "Cell \u001B[0;32mIn[46], line 1\u001B[0m\n\u001B[0;32m----> 1\u001B[0m \u001B[38;5;28;43;01mfor\u001B[39;49;00m\u001B[43m \u001B[49m\u001B[43mo\u001B[49m\u001B[43m \u001B[49m\u001B[38;5;129;43;01min\u001B[39;49;00m\u001B[43m \u001B[49m\u001B[43mapp_client\u001B[49m\u001B[38;5;241;43m.\u001B[39;49m\u001B[43mcollections\u001B[49m\u001B[38;5;241;43m.\u001B[39;49m\u001B[43mget\u001B[49m\u001B[43m(\u001B[49m\u001B[38;5;124;43m\"\u001B[39;49m\u001B[38;5;124;43mNoAccessTest\u001B[39;49m\u001B[38;5;124;43m\"\u001B[39;49m\u001B[43m)\u001B[49m\u001B[38;5;241;43m.\u001B[39;49m\u001B[43miterator\u001B[49m\u001B[43m(\u001B[49m\u001B[43m)\u001B[49m\u001B[43m:\u001B[49m\n\u001B[1;32m      2\u001B[0m \u001B[43m    \u001B[49m\u001B[38;5;28;43mprint\u001B[39;49m\u001B[43m(\u001B[49m\u001B[43mo\u001B[49m\u001B[43m)\u001B[49m\n",
      "File \u001B[0;32m~/Projects/weaviate-playbooks/.venv/lib/python3.12/site-packages/weaviate/collections/iterator.py:70\u001B[0m, in \u001B[0;36m_ObjectIterator.__next__\u001B[0;34m(self)\u001B[0m\n\u001B[1;32m     68\u001B[0m \u001B[38;5;28;01mdef\u001B[39;00m \u001B[38;5;21m__next__\u001B[39m(\u001B[38;5;28mself\u001B[39m) \u001B[38;5;241m-\u001B[39m\u001B[38;5;241m>\u001B[39m Object[TProperties, TReferences]:\n\u001B[1;32m     69\u001B[0m     \u001B[38;5;28;01mif\u001B[39;00m \u001B[38;5;28mlen\u001B[39m(\u001B[38;5;28mself\u001B[39m\u001B[38;5;241m.\u001B[39m__iter_object_cache) \u001B[38;5;241m==\u001B[39m \u001B[38;5;241m0\u001B[39m:\n\u001B[0;32m---> 70\u001B[0m         res \u001B[38;5;241m=\u001B[39m \u001B[38;5;28;43mself\u001B[39;49m\u001B[38;5;241;43m.\u001B[39;49m\u001B[43m__query\u001B[49m\u001B[38;5;241;43m.\u001B[39;49m\u001B[43mfetch_objects\u001B[49m\u001B[43m(\u001B[49m\n\u001B[1;32m     71\u001B[0m \u001B[43m            \u001B[49m\u001B[43mlimit\u001B[49m\u001B[38;5;241;43m=\u001B[39;49m\u001B[38;5;28;43mself\u001B[39;49m\u001B[38;5;241;43m.\u001B[39;49m\u001B[43m__iter_cache_size\u001B[49m\u001B[43m,\u001B[49m\n\u001B[1;32m     72\u001B[0m \u001B[43m            \u001B[49m\u001B[43mafter\u001B[49m\u001B[38;5;241;43m=\u001B[39;49m\u001B[38;5;28;43mself\u001B[39;49m\u001B[38;5;241;43m.\u001B[39;49m\u001B[43m__iter_object_last_uuid\u001B[49m\u001B[43m,\u001B[49m\n\u001B[1;32m     73\u001B[0m \u001B[43m            \u001B[49m\u001B[43minclude_vector\u001B[49m\u001B[38;5;241;43m=\u001B[39;49m\u001B[38;5;28;43mself\u001B[39;49m\u001B[38;5;241;43m.\u001B[39;49m\u001B[43m__inputs\u001B[49m\u001B[38;5;241;43m.\u001B[39;49m\u001B[43minclude_vector\u001B[49m\u001B[43m,\u001B[49m\n\u001B[1;32m     74\u001B[0m \u001B[43m            \u001B[49m\u001B[43mreturn_metadata\u001B[49m\u001B[38;5;241;43m=\u001B[39;49m\u001B[38;5;28;43mself\u001B[39;49m\u001B[38;5;241;43m.\u001B[39;49m\u001B[43m__inputs\u001B[49m\u001B[38;5;241;43m.\u001B[39;49m\u001B[43mreturn_metadata\u001B[49m\u001B[43m,\u001B[49m\n\u001B[1;32m     75\u001B[0m \u001B[43m            \u001B[49m\u001B[43mreturn_properties\u001B[49m\u001B[38;5;241;43m=\u001B[39;49m\u001B[38;5;28;43mself\u001B[39;49m\u001B[38;5;241;43m.\u001B[39;49m\u001B[43m__inputs\u001B[49m\u001B[38;5;241;43m.\u001B[39;49m\u001B[43mreturn_properties\u001B[49m\u001B[43m,\u001B[49m\n\u001B[1;32m     76\u001B[0m \u001B[43m            \u001B[49m\u001B[43mreturn_references\u001B[49m\u001B[38;5;241;43m=\u001B[39;49m\u001B[38;5;28;43mself\u001B[39;49m\u001B[38;5;241;43m.\u001B[39;49m\u001B[43m__inputs\u001B[49m\u001B[38;5;241;43m.\u001B[39;49m\u001B[43mreturn_references\u001B[49m\u001B[43m,\u001B[49m\n\u001B[1;32m     77\u001B[0m \u001B[43m        \u001B[49m\u001B[43m)\u001B[49m\n\u001B[1;32m     78\u001B[0m         \u001B[38;5;28mself\u001B[39m\u001B[38;5;241m.\u001B[39m__iter_object_cache \u001B[38;5;241m=\u001B[39m res\u001B[38;5;241m.\u001B[39mobjects  \u001B[38;5;66;03m# type: ignore\u001B[39;00m\n\u001B[1;32m     79\u001B[0m         \u001B[38;5;28;01mif\u001B[39;00m \u001B[38;5;28mlen\u001B[39m(\u001B[38;5;28mself\u001B[39m\u001B[38;5;241m.\u001B[39m__iter_object_cache) \u001B[38;5;241m==\u001B[39m \u001B[38;5;241m0\u001B[39m:\n",
      "File \u001B[0;32m~/Projects/weaviate-playbooks/.venv/lib/python3.12/site-packages/weaviate/collections/queries/fetch_objects/query/executor.py:199\u001B[0m, in \u001B[0;36m_FetchObjectsQueryExecutor.fetch_objects\u001B[0;34m(self, limit, offset, after, filters, sort, include_vector, return_metadata, return_properties, return_references)\u001B[0m\n\u001B[1;32m    175\u001B[0m     \u001B[38;5;28;01mreturn\u001B[39;00m cast(\n\u001B[1;32m    176\u001B[0m         Any,\n\u001B[1;32m    177\u001B[0m         \u001B[38;5;28mself\u001B[39m\u001B[38;5;241m.\u001B[39m_result_to_query_return(\n\u001B[0;32m   (...)\u001B[0m\n\u001B[1;32m    186\u001B[0m         ),\n\u001B[1;32m    187\u001B[0m     )\n\u001B[1;32m    189\u001B[0m request \u001B[38;5;241m=\u001B[39m \u001B[38;5;28mself\u001B[39m\u001B[38;5;241m.\u001B[39m_query\u001B[38;5;241m.\u001B[39mget(\n\u001B[1;32m    190\u001B[0m     limit\u001B[38;5;241m=\u001B[39mlimit,\n\u001B[1;32m    191\u001B[0m     offset\u001B[38;5;241m=\u001B[39moffset,\n\u001B[0;32m   (...)\u001B[0m\n\u001B[1;32m    197\u001B[0m     return_references\u001B[38;5;241m=\u001B[39m\u001B[38;5;28mself\u001B[39m\u001B[38;5;241m.\u001B[39m_parse_return_references(cast(Any, return_references)),\n\u001B[1;32m    198\u001B[0m )\n\u001B[0;32m--> 199\u001B[0m \u001B[38;5;28;01mreturn\u001B[39;00m \u001B[43mexecutor\u001B[49m\u001B[38;5;241;43m.\u001B[39;49m\u001B[43mexecute\u001B[49m\u001B[43m(\u001B[49m\n\u001B[1;32m    200\u001B[0m \u001B[43m    \u001B[49m\u001B[43mresponse_callback\u001B[49m\u001B[38;5;241;43m=\u001B[39;49m\u001B[43mresp\u001B[49m\u001B[43m,\u001B[49m\n\u001B[1;32m    201\u001B[0m \u001B[43m    \u001B[49m\u001B[43mmethod\u001B[49m\u001B[38;5;241;43m=\u001B[39;49m\u001B[38;5;28;43mself\u001B[39;49m\u001B[38;5;241;43m.\u001B[39;49m\u001B[43m_connection\u001B[49m\u001B[38;5;241;43m.\u001B[39;49m\u001B[43mgrpc_search\u001B[49m\u001B[43m,\u001B[49m\n\u001B[1;32m    202\u001B[0m \u001B[43m    \u001B[49m\u001B[43mrequest\u001B[49m\u001B[38;5;241;43m=\u001B[39;49m\u001B[43mrequest\u001B[49m\u001B[43m,\u001B[49m\n\u001B[1;32m    203\u001B[0m \u001B[43m\u001B[49m\u001B[43m)\u001B[49m\n",
      "File \u001B[0;32m~/Projects/weaviate-playbooks/.venv/lib/python3.12/site-packages/weaviate/connect/executor.py:99\u001B[0m, in \u001B[0;36mexecute\u001B[0;34m(method, response_callback, exception_callback, *args, **kwargs)\u001B[0m\n\u001B[1;32m     97\u001B[0m     \u001B[38;5;28;01mreturn\u001B[39;00m resp_call\n\u001B[1;32m     98\u001B[0m \u001B[38;5;28;01mexcept\u001B[39;00m \u001B[38;5;167;01mException\u001B[39;00m \u001B[38;5;28;01mas\u001B[39;00m e:\n\u001B[0;32m---> 99\u001B[0m     \u001B[38;5;28;01mreturn\u001B[39;00m cast(T, \u001B[43mexception_callback\u001B[49m\u001B[43m(\u001B[49m\u001B[43me\u001B[49m\u001B[43m)\u001B[49m)\n",
      "File \u001B[0;32m~/Projects/weaviate-playbooks/.venv/lib/python3.12/site-packages/weaviate/connect/executor.py:38\u001B[0m, in \u001B[0;36mraise_exception\u001B[0;34m(e)\u001B[0m\n\u001B[1;32m     37\u001B[0m \u001B[38;5;28;01mdef\u001B[39;00m \u001B[38;5;21mraise_exception\u001B[39m(e: \u001B[38;5;167;01mException\u001B[39;00m) \u001B[38;5;241m-\u001B[39m\u001B[38;5;241m>\u001B[39m Any:\n\u001B[0;32m---> 38\u001B[0m     \u001B[38;5;28;01mraise\u001B[39;00m e\n",
      "File \u001B[0;32m~/Projects/weaviate-playbooks/.venv/lib/python3.12/site-packages/weaviate/connect/executor.py:80\u001B[0m, in \u001B[0;36mexecute\u001B[0;34m(method, response_callback, exception_callback, *args, **kwargs)\u001B[0m\n\u001B[1;32m     71\u001B[0m \u001B[38;5;28;01mdef\u001B[39;00m \u001B[38;5;21mexecute\u001B[39m(\n\u001B[1;32m     72\u001B[0m     method: SyncOrAsyncMethod[P, R],\n\u001B[1;32m     73\u001B[0m     response_callback: SyncOrAsyncCallback[R, T, A],\n\u001B[0;32m   (...)\u001B[0m\n\u001B[1;32m     77\u001B[0m ) \u001B[38;5;241m-\u001B[39m\u001B[38;5;241m>\u001B[39m Union[T, Awaitable[T], Awaitable[A]]:\n\u001B[1;32m     78\u001B[0m     \u001B[38;5;66;03m# wrap method call in try-except to catch exceptions for sync method\u001B[39;00m\n\u001B[1;32m     79\u001B[0m     \u001B[38;5;28;01mtry\u001B[39;00m:\n\u001B[0;32m---> 80\u001B[0m         call \u001B[38;5;241m=\u001B[39m \u001B[43mmethod\u001B[49m\u001B[43m(\u001B[49m\u001B[38;5;241;43m*\u001B[39;49m\u001B[43margs\u001B[49m\u001B[43m,\u001B[49m\u001B[43m \u001B[49m\u001B[38;5;241;43m*\u001B[39;49m\u001B[38;5;241;43m*\u001B[39;49m\u001B[43mkwargs\u001B[49m\u001B[43m)\u001B[49m\n\u001B[1;32m     81\u001B[0m         \u001B[38;5;28;01mif\u001B[39;00m \u001B[38;5;28misinstance\u001B[39m(call, Awaitable):\n\u001B[1;32m     83\u001B[0m             \u001B[38;5;28;01masync\u001B[39;00m \u001B[38;5;28;01mdef\u001B[39;00m \u001B[38;5;21m_execute\u001B[39m() \u001B[38;5;241m-\u001B[39m\u001B[38;5;241m>\u001B[39m T:\n\u001B[1;32m     84\u001B[0m                 \u001B[38;5;66;03m# wrap await in try-except to catch exceptions for async method\u001B[39;00m\n",
      "File \u001B[0;32m~/Projects/weaviate-playbooks/.venv/lib/python3.12/site-packages/weaviate/connect/v4.py:997\u001B[0m, in \u001B[0;36mConnectionSync.grpc_search\u001B[0;34m(self, request)\u001B[0m\n\u001B[1;32m    995\u001B[0m     error \u001B[38;5;241m=\u001B[39m cast(Call, e)\n\u001B[1;32m    996\u001B[0m     \u001B[38;5;28;01mif\u001B[39;00m error\u001B[38;5;241m.\u001B[39mcode() \u001B[38;5;241m==\u001B[39m StatusCode\u001B[38;5;241m.\u001B[39mPERMISSION_DENIED:\n\u001B[0;32m--> 997\u001B[0m         \u001B[38;5;28;01mraise\u001B[39;00m InsufficientPermissionsError(error)\n\u001B[1;32m    998\u001B[0m     \u001B[38;5;28;01mraise\u001B[39;00m WeaviateQueryError(\u001B[38;5;28mstr\u001B[39m(error\u001B[38;5;241m.\u001B[39mdetails()), \u001B[38;5;124m\"\u001B[39m\u001B[38;5;124mGRPC search\u001B[39m\u001B[38;5;124m\"\u001B[39m)  \u001B[38;5;66;03m# pyright: ignore\u001B[39;00m\n\u001B[1;32m    999\u001B[0m \u001B[38;5;28;01mexcept\u001B[39;00m WeaviateRetryError \u001B[38;5;28;01mas\u001B[39;00m e:\n",
      "\u001B[0;31mInsufficientPermissionsError\u001B[0m: forbidden! Unexpected status code: permission denied, with response body: rbac: authorization, forbidden action: user 'app' has insufficient permissions to read_data [[Domain: data, Collection: NoAccessTest, Tenant: *, Object: *]]."
     ]
    }
   ],
   "execution_count": 46
  }
 ],
 "metadata": {
  "kernelspec": {
   "display_name": "Python 3",
   "language": "python",
   "name": "python3"
  },
  "language_info": {
   "codemirror_mode": {
    "name": "ipython",
    "version": 2
   },
   "file_extension": ".py",
   "mimetype": "text/x-python",
   "name": "python",
   "nbconvert_exporter": "python",
   "pygments_lexer": "ipython2",
   "version": "2.7.6"
  }
 },
 "nbformat": 4,
 "nbformat_minor": 5
}
