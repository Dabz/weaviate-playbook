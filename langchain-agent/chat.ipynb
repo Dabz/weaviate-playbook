{
 "cells": [
  {
   "cell_type": "code",
   "id": "initial_id",
   "metadata": {
    "collapsed": true
   },
   "source": [
    "%pip install langchain\n",
    "%pip install langgraph\n",
    "%pip install weaviate-client\n",
    "%pip install ipywidgets\n",
    "%pip install tqdm\n",
    "%pip install -U langchain-ollama\n"
   ],
   "outputs": [],
   "execution_count": null
  },
  {
   "metadata": {
    "ExecuteTime": {
     "end_time": "2025-01-06T15:28:09.012385Z",
     "start_time": "2025-01-06T15:28:08.987600Z"
    }
   },
   "cell_type": "code",
   "source": [
    "import weaviate\n",
    "import weaviate.classes.config as wcd\n",
    "\n",
    "\n",
    "client = weaviate.WeaviateClient(\n",
    "    connection_params=weaviate.connect.ConnectionParams.from_params(\n",
    "        http_host=\"localhost\",\n",
    "        http_port=8080,\n",
    "        http_secure=False,\n",
    "        grpc_host=\"localhost\",\n",
    "        grpc_port=50051,\n",
    "        grpc_secure=False,\n",
    "    ),\n",
    "    additional_config=weaviate.classes.init.AdditionalConfig(\n",
    "        timeout=weaviate.classes.init.Timeout(init=30, query=60, insert=120),\n",
    "    ),\n",
    "    skip_init_checks=False\n",
    ")\n",
    "collection_name = \"products\""
   ],
   "id": "617aaa32427716a0",
   "outputs": [],
   "execution_count": 5
  },
  {
   "metadata": {
    "ExecuteTime": {
     "end_time": "2025-01-06T15:05:24.734811Z",
     "start_time": "2025-01-06T15:05:24.525299Z"
    }
   },
   "cell_type": "code",
   "source": [
    "ollama_api_endpoint = \"http://host.docker.internal:11434\"\n",
    "\n",
    "if (client.collections.exists(collection_name)):\n",
    "    client.collections.delete(collection_name)\n",
    "\n",
    "client.collections.create(name=collection_name,\n",
    "                          description=\"Contains all product for ecommerce website\",\n",
    "                          vectorizer_config=wcd.Configure.Vectorizer.text2vec_ollama(api_endpoint=ollama_api_endpoint, model=\"nomic-embed-text\"),\n",
    "                          generative_config=wcd.Configure.Generative.ollama(api_endpoint=ollama_api_endpoint, model=\"llama3.3\"),\n",
    "                          properties=[\n",
    "                              wcd.Property(name=\"title\", data_type=wcd.DataType.TEXT),\n",
    "                              wcd.Property(name=\"category\", data_type=wcd.DataType.TEXT),\n",
    "                              wcd.Property(name=\"description\", data_type=wcd.DataType.TEXT),\n",
    "                              wcd.Property(name=\"price\", data_type=wcd.DataType.NUMBER, skip_vectorization=True),\n",
    "                          ]\n",
    "                          )"
   ],
   "id": "c40f8f58182090c5",
   "outputs": [
    {
     "data": {
      "text/plain": [
       "<weaviate.collections.collection.sync.Collection at 0x107f07d40>"
      ]
     },
     "execution_count": 2,
     "metadata": {},
     "output_type": "execute_result"
    }
   ],
   "execution_count": 2
  },
  {
   "metadata": {
    "ExecuteTime": {
     "end_time": "2025-01-06T15:28:15.959300Z",
     "start_time": "2025-01-06T15:28:15.954916Z"
    }
   },
   "cell_type": "code",
   "source": "collection = client.collections.get(collection_name)",
   "id": "53cb71d9748e5b7e",
   "outputs": [],
   "execution_count": 6
  },
  {
   "metadata": {
    "ExecuteTime": {
     "end_time": "2025-01-06T15:23:28.659548Z",
     "start_time": "2025-01-06T15:05:30.261066Z"
    }
   },
   "cell_type": "code",
   "source": [
    "import tqdm.notebook as tqdm\n",
    "from datasets import load_dataset\n",
    "\n",
    "dataset = load_dataset(\"McAuley-Lab/Amazon-Reviews-2023\", \"raw_meta_All_Beauty\", split=\"full\", trust_remote_code=True, streaming=True)\n",
    "with client.batch.fixed_size(batch_size=100, concurrent_requests=50, consistency_level=wcd.ConsistencyLevel.ONE) as batch:\n",
    "    for item in tqdm.tqdm(iter(dataset)):\n",
    "        dict = {\n",
    "            \"title\": item[\"title\"],\n",
    "            \"category\": item[\"main_category\"],\n",
    "            \"description\": \"\\n\".join(item[\"description\"]),\n",
    "            \"price\": -1 if item[\"price\"] == \"None\" else float(item[\"price\"]) ,\n",
    "        }\n",
    "        batch.add_object(collection=collection_name, properties=dict, uuid=weaviate.util.generate_uuid5(dict[\"title\"]))\n",
    "        if batch.number_errors > 1:\n",
    "            break\n",
    "    if len(client.batch.failed_objects) > 0:\n",
    "        print(\"Failed objects:\")\n",
    "        print(client.batch.failed_objects)\n",
    "        breakpoint()"
   ],
   "id": "e5d7bcf8d23f75ca",
   "outputs": [
    {
     "data": {
      "text/plain": [
       "0it [00:00, ?it/s]"
      ],
      "application/vnd.jupyter.widget-view+json": {
       "version_major": 2,
       "version_minor": 0,
       "model_id": "60e1a0b22d374f0db4c400e1c7dfb0d3"
      }
     },
     "metadata": {},
     "output_type": "display_data"
    }
   ],
   "execution_count": 4
  },
  {
   "metadata": {
    "ExecuteTime": {
     "end_time": "2025-01-06T15:32:59.101125Z",
     "start_time": "2025-01-06T15:32:58.785229Z"
    }
   },
   "cell_type": "code",
   "source": [
    "from langchain_core.tools import tool\n",
    "from weaviate.classes.query import Filter\n",
    "\n",
    "@tool(name_or_callable=\"weaviate_search\")\n",
    "def weaviate_search(query: str) -> str:\n",
    "    \"\"\"search for products in database\n",
    "\n",
    "    Args:\n",
    "        query: query to search for\n",
    "    \"\"\"\n",
    "    response = collection.query.near_text(query, limit=1)\n",
    "    if len(response) == 0:\n",
    "        return \"No product found\"\n",
    "    return response.objects[0]\n",
    "\n",
    "\n",
    "@tool(name_or_callable=\"weaviate_search_with_price_filter\")\n",
    "def weaviate_search_with_price_filter(query: str, maximum_price: int = 9999, minimum_price = 0) -> str:\n",
    "    \"\"\"search for products in database and filter results by price\n",
    "\n",
    "    Args:\n",
    "        query: query to search for\n",
    "        maximum_price: maximum price to search for, if not specified, defaults to 9999\n",
    "        minimum_price: minimum price to search for, if not specified, defaults to 0\n",
    "    \"\"\"\n",
    "\n",
    "    response = collection.query.near_text(query, limit=1, filters=Filter.all_of([\n",
    "        Filter.by_property(\"price\").greater_than(minimum_price),\n",
    "        Filter.by_property(\"price\").less_than(maximum_price),\n",
    "    ]))\n",
    "    if len(response) == 0:\n",
    "        return \"No product found\"\n",
    "    return response.objects[0]\n",
    "\n",
    "\n"
   ],
   "id": "a13322f6c8a39153",
   "outputs": [],
   "execution_count": 7
  },
  {
   "metadata": {
    "ExecuteTime": {
     "end_time": "2025-01-06T15:40:48.482720Z",
     "start_time": "2025-01-06T15:40:48.412846Z"
    }
   },
   "cell_type": "code",
   "source": [
    "from langchain_ollama import ChatOllama\n",
    "from langchain_core.messages import HumanMessage\n",
    "\n",
    "model = ChatOllama(model=\"llama3.2\")\n",
    "tools = [weaviate_search, weaviate_search_with_price_filter]\n",
    "\n",
    "model_with_tools = model.bind_tools(tools)"
   ],
   "id": "df5861d13b206d2f",
   "outputs": [],
   "execution_count": 15
  },
  {
   "metadata": {
    "ExecuteTime": {
     "end_time": "2025-01-06T15:40:52.439050Z",
     "start_time": "2025-01-06T15:40:50.101554Z"
    }
   },
   "cell_type": "code",
   "source": [
    "response = model_with_tools.invoke([HumanMessage(content=\"Blue lipstick\")])\n",
    "\n",
    "print(f\"ContentString: {response.content}\")\n",
    "print(f\"ToolCalls: {response.tool_calls}\")"
   ],
   "id": "4c3089e6871ab533",
   "outputs": [
    {
     "name": "stdout",
     "output_type": "stream",
     "text": [
      "ContentString: \n",
      "ToolCalls: [{'name': 'weaviate_search', 'args': {'query': 'blue lipstick'}, 'id': '354f0cec-10bd-45d7-88ba-141240b7cd86', 'type': 'tool_call'}]\n"
     ]
    }
   ],
   "execution_count": 16
  },
  {
   "metadata": {
    "ExecuteTime": {
     "end_time": "2025-01-06T15:45:39.300344Z",
     "start_time": "2025-01-06T15:45:37.893167Z"
    }
   },
   "cell_type": "code",
   "source": [
    "response = model_with_tools.invoke([HumanMessage(content=\"Blue lipstick below 10$\")])\n",
    "\n",
    "print(f\"ContentString: {response.content}\")\n",
    "print(f\"ToolCalls: {response.tool_calls}\")\n"
   ],
   "id": "df13a023b1a4dc02",
   "outputs": [
    {
     "name": "stdout",
     "output_type": "stream",
     "text": [
      "ContentString: \n",
      "ToolCalls: [{'name': 'weaviate_search_with_price_filter', 'args': {'maximum_price': 10, 'minimum_price': 0, 'query': 'blue lipstick'}, 'id': 'f3206ae0-ccd8-4fa2-80cc-3c59760d83af', 'type': 'tool_call'}]\n"
     ]
    }
   ],
   "execution_count": 19
  },
  {
   "metadata": {
    "ExecuteTime": {
     "end_time": "2025-01-06T16:14:42.342569Z",
     "start_time": "2025-01-06T16:14:35.835Z"
    }
   },
   "cell_type": "code",
   "source": [
    "from typing import Literal\n",
    "from langchain_ollama import ChatOllama\n",
    "from langchain_core.messages import HumanMessage\n",
    "from langgraph.checkpoint.memory import MemorySaver\n",
    "from langgraph.graph import END, START, StateGraph, MessagesState\n",
    "from langgraph.prebuilt import ToolNode\n",
    "\n",
    "tools = [weaviate_search, weaviate_search_with_price_filter]\n",
    "tool_node = ToolNode(tools)\n",
    "model = ChatOllama(model=\"llama3.2\")\n",
    "\n",
    "def should_continue(state: MessagesState) -> Literal[\"tools\", END]:\n",
    "def should_continue(state: MessagesState) -> Literal[\"tools\", END]:\n",
    "    messages = state['messages']\n",
    "    last_message = messages[-1]\n",
    "    if last_message.tool_calls:\n",
    "        return \"tools\"\n",
    "    return END\n",
    "\n",
    "\n",
    "# Define the function that calls the model\n",
    "def call_model(state: MessagesState):\n",
    "    messages = state['messages']\n",
    "    response = model.invoke(messages)\n",
    "    return {\"messages\": [response]}\n",
    "\n",
    "\n",
    "# Define a new graph\n",
    "workflow = StateGraph(MessagesState)\n",
    "workflow.add_node(\"agent\", call_model)\n",
    "workflow.add_node(\"tools\", tool_node)\n",
    "workflow.add_edge(START, \"agent\")\n",
    "\n",
    "# We now add a conditional edge\n",
    "workflow.add_conditional_edges(\n",
    "    \"agent\",\n",
    "    should_continue,\n",
    ")\n",
    "\n",
    "# We now add a normal edge from `tools` to `agent`.\n",
    "# This means that after `tools` is called, `agent` node is called next.\n",
    "workflow.add_edge(\"tools\", 'agent')\n",
    "checkpointer = MemorySaver()\n",
    "\n",
    "app = workflow.compile(checkpointer=checkpointer)\n",
    "\n",
    "final_state = app.invoke(\n",
    "    {\"messages\": [HumanMessage(content=\"Blue lipstick below 10$\")]},\n",
    "    config={\"configurable\": {\"thread_id\": 42}}\n",
    ")\n",
    "final_state[\"messages\"][-1].content"
   ],
   "id": "6a1c8caca371a9a9",
   "outputs": [
    {
     "data": {
      "text/plain": [
       "'Here are some blue lipstick options under $10:\\n\\n1. **Sephora Collection Blue Velvet Lipstick**: This shade is a vibrant, blue-based pink that\\'s perfect for making a statement. ($8)\\n2. **NYX Soft Matte Lip Cream in \"Fiji\"**: This blue-pink color has a soft, matte finish and is easy to wear. ($6)\\n3. **L\\'Oreal Paris Infallible Blue Lipstick**: This long-lasting lipstick comes in a range of blue shades, including this vibrant blue. ($9.99)\\n4. **Milani Color Statement Blue Velvet Lipstick**: Another affordable option from Milani, this shade is a rich, blue-based pink. ($8.50)\\n5. **Maybelline SuperStay Matte Ink Blue Lipstick**: This waterproof lipstick comes in several blue shades and has a comfortable, matte finish. ($9.99)\\n\\nPlease note that prices may vary depending on the location and retailer.\\n\\nWould you like me to suggest more options or provide information about a specific brand?'"
      ]
     },
     "execution_count": 21,
     "metadata": {},
     "output_type": "execute_result"
    }
   ],
   "execution_count": 21
  }
 ],
 "metadata": {
  "kernelspec": {
   "display_name": "Python 3",
   "language": "python",
   "name": "python3"
  },
  "language_info": {
   "codemirror_mode": {
    "name": "ipython",
    "version": 2
   },
   "file_extension": ".py",
   "mimetype": "text/x-python",
   "name": "python",
   "nbconvert_exporter": "python",
   "pygments_lexer": "ipython2",
   "version": "2.7.6"
  }
 },
 "nbformat": 4,
 "nbformat_minor": 5
}
