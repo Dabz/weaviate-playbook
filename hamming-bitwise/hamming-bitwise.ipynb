{
 "cells": [
  {
   "cell_type": "code",
   "id": "initial_id",
   "metadata": {
    "collapsed": true,
    "ExecuteTime": {
     "end_time": "2025-01-23T10:00:36.274923Z",
     "start_time": "2025-01-23T10:00:33.621635Z"
    }
   },
   "source": [
    "from weaviate.collections.classes.config import VectorDistances\n",
    "%pip install -U weaviate-client\n",
    "%pip install -U bitarray"
   ],
   "outputs": [
    {
     "name": "stderr",
     "output_type": "stream",
     "text": [
      "/Library/Frameworks/Python.framework/Versions/3.12/lib/python3.12/pty.py:95: DeprecationWarning: This process (pid=88810) is multi-threaded, use of forkpty() may lead to deadlocks in the child.\n",
      "  pid, fd = os.forkpty()\n"
     ]
    },
    {
     "name": "stdout",
     "output_type": "stream",
     "text": [
      "Requirement already satisfied: weaviate-client in /Users/gaspar_d/Projects/weaviate-playbooks/.venv/lib/python3.12/site-packages (4.10.5.dev11+g968fe751)\r\n",
      "Requirement already satisfied: httpx<0.29.0,>=0.26.0 in /Users/gaspar_d/Projects/weaviate-playbooks/.venv/lib/python3.12/site-packages (from weaviate-client) (0.27.2)\r\n",
      "Requirement already satisfied: validators==0.34.0 in /Users/gaspar_d/Projects/weaviate-playbooks/.venv/lib/python3.12/site-packages (from weaviate-client) (0.34.0)\r\n",
      "Requirement already satisfied: authlib<1.3.2,>=1.2.1 in /Users/gaspar_d/Projects/weaviate-playbooks/.venv/lib/python3.12/site-packages (from weaviate-client) (1.3.1)\r\n",
      "Requirement already satisfied: pydantic<3.0.0,>=2.8.0 in /Users/gaspar_d/Projects/weaviate-playbooks/.venv/lib/python3.12/site-packages (from weaviate-client) (2.10.4)\r\n",
      "Requirement already satisfied: grpcio<2.0.0,>=1.66.2 in /Users/gaspar_d/Projects/weaviate-playbooks/.venv/lib/python3.12/site-packages (from weaviate-client) (1.68.1)\r\n",
      "Requirement already satisfied: grpcio-tools<2.0.0,>=1.66.2 in /Users/gaspar_d/Projects/weaviate-playbooks/.venv/lib/python3.12/site-packages (from weaviate-client) (1.68.1)\r\n",
      "Requirement already satisfied: grpcio-health-checking<2.0.0,>=1.66.2 in /Users/gaspar_d/Projects/weaviate-playbooks/.venv/lib/python3.12/site-packages (from weaviate-client) (1.68.1)\r\n",
      "Requirement already satisfied: cryptography in /Users/gaspar_d/Projects/weaviate-playbooks/.venv/lib/python3.12/site-packages (from authlib<1.3.2,>=1.2.1->weaviate-client) (44.0.0)\r\n",
      "Requirement already satisfied: protobuf<6.0dev,>=5.26.1 in /Users/gaspar_d/Projects/weaviate-playbooks/.venv/lib/python3.12/site-packages (from grpcio-health-checking<2.0.0,>=1.66.2->weaviate-client) (5.29.2)\r\n",
      "Requirement already satisfied: setuptools in /Users/gaspar_d/Projects/weaviate-playbooks/.venv/lib/python3.12/site-packages (from grpcio-tools<2.0.0,>=1.66.2->weaviate-client) (75.6.0)\r\n",
      "Requirement already satisfied: anyio in /Users/gaspar_d/Projects/weaviate-playbooks/.venv/lib/python3.12/site-packages (from httpx<0.29.0,>=0.26.0->weaviate-client) (4.7.0)\r\n",
      "Requirement already satisfied: certifi in /Users/gaspar_d/Projects/weaviate-playbooks/.venv/lib/python3.12/site-packages (from httpx<0.29.0,>=0.26.0->weaviate-client) (2024.12.14)\r\n",
      "Requirement already satisfied: httpcore==1.* in /Users/gaspar_d/Projects/weaviate-playbooks/.venv/lib/python3.12/site-packages (from httpx<0.29.0,>=0.26.0->weaviate-client) (1.0.7)\r\n",
      "Requirement already satisfied: idna in /Users/gaspar_d/Projects/weaviate-playbooks/.venv/lib/python3.12/site-packages (from httpx<0.29.0,>=0.26.0->weaviate-client) (3.10)\r\n",
      "Requirement already satisfied: sniffio in /Users/gaspar_d/Projects/weaviate-playbooks/.venv/lib/python3.12/site-packages (from httpx<0.29.0,>=0.26.0->weaviate-client) (1.3.1)\r\n",
      "Requirement already satisfied: h11<0.15,>=0.13 in /Users/gaspar_d/Projects/weaviate-playbooks/.venv/lib/python3.12/site-packages (from httpcore==1.*->httpx<0.29.0,>=0.26.0->weaviate-client) (0.14.0)\r\n",
      "Requirement already satisfied: annotated-types>=0.6.0 in /Users/gaspar_d/Projects/weaviate-playbooks/.venv/lib/python3.12/site-packages (from pydantic<3.0.0,>=2.8.0->weaviate-client) (0.7.0)\r\n",
      "Requirement already satisfied: pydantic-core==2.27.2 in /Users/gaspar_d/Projects/weaviate-playbooks/.venv/lib/python3.12/site-packages (from pydantic<3.0.0,>=2.8.0->weaviate-client) (2.27.2)\r\n",
      "Requirement already satisfied: typing-extensions>=4.12.2 in /Users/gaspar_d/Projects/weaviate-playbooks/.venv/lib/python3.12/site-packages (from pydantic<3.0.0,>=2.8.0->weaviate-client) (4.12.2)\r\n",
      "Requirement already satisfied: cffi>=1.12 in /Users/gaspar_d/Projects/weaviate-playbooks/.venv/lib/python3.12/site-packages (from cryptography->authlib<1.3.2,>=1.2.1->weaviate-client) (1.17.1)\r\n",
      "Requirement already satisfied: pycparser in /Users/gaspar_d/Projects/weaviate-playbooks/.venv/lib/python3.12/site-packages (from cffi>=1.12->cryptography->authlib<1.3.2,>=1.2.1->weaviate-client) (2.22)\r\n",
      "\u001B[33mWARNING: There was an error checking the latest version of pip.\u001B[0m\u001B[33m\r\n",
      "\u001B[0mNote: you may need to restart the kernel to use updated packages.\n",
      "Collecting bitarray\r\n",
      "  Obtaining dependency information for bitarray from https://files.pythonhosted.org/packages/80/9f/4dd05086308bfcc84ad88c663460a8ad9f5f638f9f96eb5fa08381054db6/bitarray-3.0.0-cp312-cp312-macosx_11_0_arm64.whl.metadata\r\n",
      "  Downloading bitarray-3.0.0-cp312-cp312-macosx_11_0_arm64.whl.metadata (32 kB)\r\n",
      "Downloading bitarray-3.0.0-cp312-cp312-macosx_11_0_arm64.whl (121 kB)\r\n",
      "\u001B[2K   \u001B[90m━━━━━━━━━━━━━━━━━━━━━━━━━━━━━━━━━━━━━━━━\u001B[0m \u001B[32m121.2/121.2 kB\u001B[0m \u001B[31m6.3 MB/s\u001B[0m eta \u001B[36m0:00:00\u001B[0m\r\n",
      "\u001B[?25hInstalling collected packages: bitarray\r\n",
      "Successfully installed bitarray-3.0.0\r\n",
      "\u001B[33mWARNING: There was an error checking the latest version of pip.\u001B[0m\u001B[33m\r\n",
      "\u001B[0mNote: you may need to restart the kernel to use updated packages.\n"
     ]
    }
   ],
   "execution_count": 3
  },
  {
   "metadata": {
    "ExecuteTime": {
     "end_time": "2025-01-23T10:16:25.905419Z",
     "start_time": "2025-01-23T10:16:25.794220Z"
    }
   },
   "cell_type": "code",
   "source": [
    "import weaviate\n",
    "from weaviate.classes.config import Property, Configure, DataType, VectorDistances\n",
    "\n",
    "client : weaviate.WeaviateClient = weaviate.connect_to_local()\n",
    "collectionName = \"BinaryIndex\"\n"
   ],
   "id": "3737d8cad7e5bfd7",
   "outputs": [],
   "execution_count": 13
  },
  {
   "metadata": {
    "ExecuteTime": {
     "end_time": "2025-01-23T10:16:27.547791Z",
     "start_time": "2025-01-23T10:16:27.358174Z"
    }
   },
   "cell_type": "code",
   "source": [
    "if client.collections.exists(collectionName):\n",
    "    client.collections.delete(collectionName)\n",
    "\n",
    "client.collections.create(\n",
    "    name=collectionName,\n",
    "    properties=[\n",
    "        Property(name=\"imageTitle\", data_type=DataType.TEXT),\n",
    "        Property(name=\"perceptualHashes\", data_type=DataType.BLOB)\n",
    "    ],\n",
    "    vector_index_config=Configure.VectorIndex.hnsw(\n",
    "        distance_metric=VectorDistances.HAMMING,\n",
    "        quantizer=Configure.VectorIndex.Quantizer.bq(rescore_limit=0)\n",
    "    ),\n",
    "    vectorizer_config=Configure.Vectorizer.none()\n",
    ")"
   ],
   "id": "cc16380080cb987d",
   "outputs": [
    {
     "data": {
      "text/plain": [
       "<weaviate.collections.collection.sync.Collection at 0x1138fedb0>"
      ]
     },
     "execution_count": 14,
     "metadata": {},
     "output_type": "execute_result"
    }
   ],
   "execution_count": 14
  },
  {
   "metadata": {
    "ExecuteTime": {
     "end_time": "2025-01-23T10:16:36.669371Z",
     "start_time": "2025-01-23T10:16:36.660129Z"
    }
   },
   "cell_type": "code",
   "source": [
    "import bitarray\n",
    "\n",
    "def hash_to_vecotor(hash: str) -> [float]:\n",
    "    ba = bitarray.bitarray()\n",
    "    ba.frombytes(hash.encode('utf-8'))\n",
    "    vector = []\n",
    "    for bit in ba:\n",
    "        vector.append(-1 if bit <= 0 else 1)\n",
    "\n",
    "    return vector"
   ],
   "id": "defb11865cd6f135",
   "outputs": [],
   "execution_count": 15
  },
  {
   "metadata": {
    "ExecuteTime": {
     "end_time": "2025-01-23T10:16:43.044253Z",
     "start_time": "2025-01-23T10:16:41.955766Z"
    }
   },
   "cell_type": "code",
   "source": [
    "hashes = [\"ffd7918181c9ffff\", \"ffd7918181c9afff\", \"9f172786e71f1e00\", \"9f172786e72f1e00\"]\n",
    "\n",
    "with client.batch.dynamic() as batch:\n",
    "    for hash in hashes:\n",
    "        batch.add_object(\n",
    "            collection=collectionName,\n",
    "            properties={\n",
    "                \"imageTitle\": hash,\n",
    "                \"perceptualHashes\": hash,\n",
    "            },\n",
    "            vector=hash_to_vecotor(hash)\n",
    "        )"
   ],
   "id": "496e723b0131f8c",
   "outputs": [],
   "execution_count": 16
  },
  {
   "metadata": {
    "ExecuteTime": {
     "end_time": "2025-01-23T10:17:23.012139Z",
     "start_time": "2025-01-23T10:17:22.978423Z"
    }
   },
   "cell_type": "code",
   "source": [
    "from weaviate.collections.classes.grpc import MetadataQuery\n",
    "\n",
    "collection = client.collections.get(collectionName)\n",
    "response = collection.query.near_vector(\n",
    "    near_vector=hash_to_vecotor(\"ffd7918181c9afff\"),\n",
    "    limit=2,\n",
    "    return_metadata=MetadataQuery(distance=True)\n",
    ")\n",
    "\n",
    "for o in response.objects:\n",
    "    print(o.properties)\n",
    "    print(o.metadata.distance)"
   ],
   "id": "faf464f2e4c44aef",
   "outputs": [
    {
     "name": "stdout",
     "output_type": "stream",
     "text": [
      "{'imageTitle': 'ffd7918181c9afff'}\n",
      "0.0\n",
      "{'imageTitle': 'ffd7918181c9ffff'}\n",
      "3.0\n"
     ]
    }
   ],
   "execution_count": 18
  }
 ],
 "metadata": {
  "kernelspec": {
   "display_name": "Python 3",
   "language": "python",
   "name": "python3"
  },
  "language_info": {
   "codemirror_mode": {
    "name": "ipython",
    "version": 2
   },
   "file_extension": ".py",
   "mimetype": "text/x-python",
   "name": "python",
   "nbconvert_exporter": "python",
   "pygments_lexer": "ipython2",
   "version": "2.7.6"
  }
 },
 "nbformat": 4,
 "nbformat_minor": 5
}
